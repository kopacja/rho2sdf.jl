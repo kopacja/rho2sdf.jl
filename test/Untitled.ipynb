{
 "cells": [
  {
   "cell_type": "code",
   "execution_count": null,
   "id": "3b456529",
   "metadata": {},
   "outputs": [],
   "source": [
    "Pkg.add(\"SymPy\")\n",
    "using SymPy"
   ]
  },
  {
   "cell_type": "code",
   "execution_count": null,
   "id": "4ed2a701",
   "metadata": {},
   "outputs": [],
   "source": [
    "ξ₁ = symbols(\"ξ₁\")\n",
    "ξ₂ = symbols(\"ξ₂\")\n",
    "ξ₃ = symbols(\"ξ₃\")\n"
   ]
  }
 ],
 "metadata": {
  "kernelspec": {
   "display_name": "Julia 1.7.1",
   "language": "julia",
   "name": "julia-1.7"
  }
 },
 "nbformat": 4,
 "nbformat_minor": 5
}
